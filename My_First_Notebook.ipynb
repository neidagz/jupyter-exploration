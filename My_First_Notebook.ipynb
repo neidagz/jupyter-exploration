{
 "cells": [
  {
   "cell_type": "markdown",
   "id": "cb3e8e36-9edc-41da-9a6f-56a5dc3406d4",
   "metadata": {},
   "source": [
    "My first markdown cell in Jupyter"
   ]
  },
  {
   "cell_type": "code",
   "execution_count": 6,
   "id": "5ae6856b-a0ad-4d52-b2e6-0d7a785869ce",
   "metadata": {},
   "outputs": [
    {
     "name": "stdout",
     "output_type": "stream",
     "text": [
      "Hello, World!\n"
     ]
    }
   ],
   "source": [
    "print(\"Hello, World!\")"
   ]
  },
  {
   "cell_type": "code",
   "execution_count": null,
   "id": "1fa81f84-2588-4e9a-ac9e-353c9f3aea8e",
   "metadata": {},
   "outputs": [],
   "source": []
  }
 ],
 "metadata": {
  "kernelspec": {
   "display_name": "anaconda-panel-2023.05-py310",
   "language": "python",
   "name": "conda-env-anaconda-panel-2023.05-py310-py"
  },
  "language_info": {
   "codemirror_mode": {
    "name": "ipython",
    "version": 3
   },
   "file_extension": ".py",
   "mimetype": "text/x-python",
   "name": "python",
   "nbconvert_exporter": "python",
   "pygments_lexer": "ipython3",
   "version": "3.11.5"
  }
 },
 "nbformat": 4,
 "nbformat_minor": 5
}
